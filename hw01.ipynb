{
  "nbformat": 4,
  "nbformat_minor": 0,
  "metadata": {
    "colab": {
      "name": "hw01.ipynb",
      "provenance": [],
      "collapsed_sections": [],
      "authorship_tag": "ABX9TyMMvy2qVSnuzG63C1fhR2BR",
      "include_colab_link": true
    },
    "kernelspec": {
      "name": "python3",
      "display_name": "Python 3"
    },
    "language_info": {
      "name": "python"
    }
  },
  "cells": [
    {
      "cell_type": "markdown",
      "metadata": {
        "id": "view-in-github",
        "colab_type": "text"
      },
      "source": [
        "<a href=\"https://colab.research.google.com/github/alkarps/GB.Theory-of-Probability-and-Mathematical-Statistics/blob/hw01/hw01.ipynb\" target=\"_parent\"><img src=\"https://colab.research.google.com/assets/colab-badge.svg\" alt=\"Open In Colab\"/></a>"
      ]
    },
    {
      "cell_type": "markdown",
      "source": [
        "# **Урок 1. Случайные события. Условная вероятность. Формула Байеса. Независимые испытания**"
      ],
      "metadata": {
        "id": "vUXlL-EwY000"
      }
    },
    {
      "cell_type": "code",
      "source": [
        "import numpy as np\n",
        "from math import factorial\n",
        "\n",
        "def combinations(n, k):\n",
        "    return int(factorial(n) / (factorial(k) * factorial(n - k)))\n",
        "\n",
        "def arrangements(n, k):\n",
        "    return int(factorial(n) / factorial(n - k))\n",
        "\n",
        "def permutations(n):\n",
        "    return int(factorial(n))"
      ],
      "metadata": {
        "id": "E3qqgndjV4I5"
      },
      "execution_count": null,
      "outputs": []
    },
    {
      "cell_type": "markdown",
      "source": [
        "### **Задание 1**"
      ],
      "metadata": {
        "id": "nAEUPU7yGFaD"
      }
    },
    {
      "cell_type": "markdown",
      "source": [
        "Из колоды в 52 карты извлекаются случайным образом 4 карты. \n",
        "1. Найти вероятность того, что все карты – крести. \n",
        "2. Найти вероятность, что среди 4-х карт окажется хотя бы один туз."
      ],
      "metadata": {
        "id": "wvEChPtMFzeM"
      }
    },
    {
      "cell_type": "code",
      "source": [
        "count_comb = combinations(52, 4)\n",
        "count_comb"
      ],
      "metadata": {
        "id": "uKHWK3rrY0UW",
        "colab": {
          "base_uri": "https://localhost:8080/"
        },
        "outputId": "36efdf1c-8dbf-4ed2-d20e-dd6cee943d11"
      },
      "execution_count": null,
      "outputs": [
        {
          "output_type": "execute_result",
          "data": {
            "text/plain": [
              "270725"
            ]
          },
          "metadata": {},
          "execution_count": 2
        }
      ]
    },
    {
      "cell_type": "code",
      "source": [
        "count_comb_clubs = combinations(52/4, 4)\n",
        "count_comb_clubs/count_comb"
      ],
      "metadata": {
        "colab": {
          "base_uri": "https://localhost:8080/"
        },
        "id": "Xhv5fkxNY3Aw",
        "outputId": "7fe2917c-f310-421c-e3e4-90bd3df26121"
      },
      "execution_count": null,
      "outputs": [
        {
          "output_type": "execute_result",
          "data": {
            "text/plain": [
              "0.0026410564225690276"
            ]
          },
          "metadata": {},
          "execution_count": 3
        }
      ]
    },
    {
      "cell_type": "code",
      "source": [
        "count_comb_aces = 1 + combinations(4, 3)*combinations(52-4, 1) + combinations(4, 2)*combinations(52-4, 2) + combinations(4, 1)*combinations(52-4, 3)\n",
        "count_comb_aces/count_comb"
      ],
      "metadata": {
        "colab": {
          "base_uri": "https://localhost:8080/"
        },
        "id": "3tzSSpUyYYqJ",
        "outputId": "62073786-0955-4a9b-f4f4-5ad62c2286a4"
      },
      "execution_count": null,
      "outputs": [
        {
          "output_type": "execute_result",
          "data": {
            "text/plain": [
              "0.2812632745405855"
            ]
          },
          "metadata": {},
          "execution_count": 4
        }
      ]
    },
    {
      "cell_type": "markdown",
      "source": [
        "### Задание 2"
      ],
      "metadata": {
        "id": "ps0PmW6gGChn"
      }
    },
    {
      "cell_type": "markdown",
      "source": [
        "На входной двери подъезда установлен кодовый замок, содержащий десять кнопок с цифрами от 0 до 9. Код содержит три цифры, которые нужно нажать одновременно. Какова вероятность того, что человек, не знающий код, откроет дверь с первой попытки?"
      ],
      "metadata": {
        "id": "bvaftnUlGTmD"
      }
    },
    {
      "cell_type": "code",
      "source": [
        "1/combinations(10, 3)"
      ],
      "metadata": {
        "colab": {
          "base_uri": "https://localhost:8080/"
        },
        "id": "qgeq_uWXGWdi",
        "outputId": "2a3c2c3f-f6ee-4102-e3fe-7ff8573d6a02"
      },
      "execution_count": null,
      "outputs": [
        {
          "output_type": "execute_result",
          "data": {
            "text/plain": [
              "0.008333333333333333"
            ]
          },
          "metadata": {},
          "execution_count": 5
        }
      ]
    },
    {
      "cell_type": "markdown",
      "source": [
        "### Задание 3"
      ],
      "metadata": {
        "id": "iHv7dXplGWkV"
      }
    },
    {
      "cell_type": "markdown",
      "source": [
        "В ящике имеется 15 деталей, из которых 9 окрашены. Рабочий случайным образом извлекает 3 детали. Какова вероятность того, что все извлеченные детали окрашены?"
      ],
      "metadata": {
        "id": "gg7zrGxQGZHo"
      }
    },
    {
      "cell_type": "code",
      "source": [
        "p1 = 9/15\n",
        "p2 = 8/14\n",
        "p3 = 7/13\n",
        "p3InRow = p1*p2*p3\n",
        "p3InRow"
      ],
      "metadata": {
        "colab": {
          "base_uri": "https://localhost:8080/"
        },
        "id": "Yf8QNJP6Gaxc",
        "outputId": "0b6a585e-f1ff-49d7-a161-54698238beb4"
      },
      "execution_count": null,
      "outputs": [
        {
          "output_type": "execute_result",
          "data": {
            "text/plain": [
              "0.18461538461538457"
            ]
          },
          "metadata": {},
          "execution_count": 6
        }
      ]
    },
    {
      "cell_type": "markdown",
      "source": [
        "### Задание 4"
      ],
      "metadata": {
        "id": "cKavnOyBGa3Y"
      }
    },
    {
      "cell_type": "markdown",
      "source": [
        "В лотерее 100 билетов. Из них 2 выигрышных. Какова вероятность того, что 2 приобретенных билета окажутся выигрышными?"
      ],
      "metadata": {
        "id": "DztfOnwCGdaO"
      }
    },
    {
      "cell_type": "code",
      "source": [
        "2/100 * 1/99\n"
      ],
      "metadata": {
        "colab": {
          "base_uri": "https://localhost:8080/"
        },
        "id": "BBvg_5YgGfY3",
        "outputId": "804fac92-3951-4276-d0bb-d8dd4c46185d"
      },
      "execution_count": null,
      "outputs": [
        {
          "output_type": "execute_result",
          "data": {
            "text/plain": [
              "0.00020202020202020202"
            ]
          },
          "metadata": {},
          "execution_count": 7
        }
      ]
    }
  ]
}