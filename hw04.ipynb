{
  "nbformat": 4,
  "nbformat_minor": 0,
  "metadata": {
    "colab": {
      "name": "hw04.ipynb",
      "provenance": [],
      "collapsed_sections": [],
      "authorship_tag": "ABX9TyORys+cI37N2GmMvq0TYkrQ",
      "include_colab_link": true
    },
    "kernelspec": {
      "name": "python3",
      "display_name": "Python 3"
    },
    "language_info": {
      "name": "python"
    }
  },
  "cells": [
    {
      "cell_type": "markdown",
      "metadata": {
        "id": "view-in-github",
        "colab_type": "text"
      },
      "source": [
        "<a href=\"https://colab.research.google.com/github/alkarps/GB.Theory-of-Probability-and-Mathematical-Statistics/blob/hw04/hw04.ipynb\" target=\"_parent\"><img src=\"https://colab.research.google.com/assets/colab-badge.svg\" alt=\"Open In Colab\"/></a>"
      ]
    },
    {
      "cell_type": "markdown",
      "source": [
        "# **Урок 4. Непрерывные случайные величины. Функция распределения и плотность распределения вероятностей. Равномерное и нормальное распределение. Центральная предельная теорема**"
      ],
      "metadata": {
        "id": "hCdvwvy0fDzy"
      }
    },
    {
      "cell_type": "code",
      "source": [
        "from traitlets.config.application import ArgumentError\n",
        "import numpy as np\n",
        "from math import factorial\n",
        "\n",
        "def combinations(n, k):\n",
        "    return int(factorial(n) / (factorial(k) * factorial(n - k)))\n",
        "\n",
        "def arrangements(n, k):\n",
        "    return int(factorial(n) / factorial(n - k))\n",
        "\n",
        "def permutations(n):\n",
        "    return int(factorial(n))\n",
        "\n",
        "def bernulli(n, k, p):\n",
        "    return combinations(n, k)*np.power(p, k)*np.power(1-p, n-k)\n",
        "\n",
        "def puason(n, k, p):\n",
        "    lambda_ = n*p\n",
        "    return np.power(lambda_, k)*np.exp(-lambda_)/np.math.factorial(k)\n",
        "\n",
        "def gauss(X, Mx, Dx = None, StdX = None):\n",
        "    if X is None:\n",
        "        raise ValueError(\"Need X parameter.\")\n",
        "    if Mx is None:\n",
        "        raise ValueError(\"Need Mx parameter.\")\n",
        "    if Dx is None:\n",
        "        if StdX is None:\n",
        "            raise ValueError(\"Need one of Dx or StdX parameters.\")\n",
        "        else:\n",
        "            Dx = np.square(StdX)\n",
        "    else:\n",
        "        if StdX is None:\n",
        "            StdX = np.sqrt(Dx)\n",
        "        elif Dx != np.square(StdX):\n",
        "            raise ValueError(\"Dx != StdX * StdX\")\n",
        "    return (1/(StdX*np.sqrt(2*np.pi)))*np.exp(-np.square(X-Mx)/(2*Dx))\n",
        "\n",
        "def Z(X, Mx, StdX):\n",
        "    return (X-Mx)/StdX"
      ],
      "metadata": {
        "id": "WD5uK1BIfOmB"
      },
      "execution_count": null,
      "outputs": []
    },
    {
      "cell_type": "markdown",
      "source": [
        "### **Задание 1**"
      ],
      "metadata": {
        "id": "fV5GfDpVfMnW"
      }
    },
    {
      "cell_type": "markdown",
      "source": [
        "Случайная непрерывная величина A имеет равномерное распределение на промежутке (200, 800].\n",
        "Найдите ее среднее значение и дисперсию."
      ],
      "metadata": {
        "id": "kWqIaJMffDog"
      }
    },
    {
      "cell_type": "code",
      "execution_count": null,
      "metadata": {
        "colab": {
          "base_uri": "https://localhost:8080/"
        },
        "id": "-HD4zMg6QyAH",
        "outputId": "f2daada1-ff5c-4bff-d50b-6b0198cc237c"
      },
      "outputs": [
        {
          "output_type": "execute_result",
          "data": {
            "text/plain": [
              "(500.0, 30000.0)"
            ]
          },
          "metadata": {},
          "execution_count": 2
        }
      ],
      "source": [
        "a = 200\n",
        "b = 800\n",
        "Mx = (a+b)/2\n",
        "Dx = np.square(b-a)/12\n",
        "Mx, Dx"
      ]
    },
    {
      "cell_type": "markdown",
      "source": [
        "### **Задание 2**"
      ],
      "metadata": {
        "id": "m0BU8I9ofMP0"
      }
    },
    {
      "cell_type": "markdown",
      "source": [
        "О случайной непрерывной равномерно распределенной величине B известно, что ее дисперсия равна 0.2.\n",
        "Можно ли найти правую границу величины B и ее среднее значение зная, что левая граница равна 0.5?\n",
        "Если да, найдите ее."
      ],
      "metadata": {
        "id": "pUbMtMaKfL9w"
      }
    },
    {
      "cell_type": "code",
      "source": [
        "Dx = 0.2\n",
        "a = 0.5\n",
        "b = a+ np.sqrt(12*Dx)\n",
        "Mx = (a+b)/2\n",
        "b, Mx"
      ],
      "metadata": {
        "colab": {
          "base_uri": "https://localhost:8080/"
        },
        "id": "vp2q3rYxfUl9",
        "outputId": "a5cec86c-342f-4332-88d5-f8af7f0a6616"
      },
      "execution_count": null,
      "outputs": [
        {
          "output_type": "execute_result",
          "data": {
            "text/plain": [
              "(2.049193338482967, 1.2745966692414834)"
            ]
          },
          "metadata": {},
          "execution_count": 3
        }
      ]
    },
    {
      "cell_type": "markdown",
      "source": [
        "### **Задание 3**"
      ],
      "metadata": {
        "id": "CuDTuFdlfU2E"
      }
    },
    {
      "cell_type": "markdown",
      "source": [
        "Непрерывная случайная величина X распределена нормально и задана плотностью распределения\n",
        "f(x) = (1 / (4 * sqrt(2pi))) * exp((-(x+2)**2) / 32)\n",
        "Найдите:\n",
        "а). M(X)\n",
        "б). D(X)\n",
        "в). std(X) (среднее квадратичное отклонение)"
      ],
      "metadata": {
        "id": "NW6JAsncfVfy"
      }
    },
    {
      "cell_type": "code",
      "source": [
        "Mx = -2\n",
        "Dx = 16\n",
        "StdX = 4"
      ],
      "metadata": {
        "id": "MbWuKq_nfWxU"
      },
      "execution_count": null,
      "outputs": []
    },
    {
      "cell_type": "markdown",
      "source": [
        "### **Задание 4**"
      ],
      "metadata": {
        "id": "RRhF-rcKfXJ2"
      }
    },
    {
      "cell_type": "markdown",
      "source": [
        "Рост взрослого населения города X имеет нормальное распределение.\n",
        "Причем, средний рост равен 174 см, а среднее квадратичное отклонение равно 8 см.\n",
        "Какова вероятность того, что случайным образом выбранный взрослый человек имеет рост:\n",
        "а). больше 182 см\n",
        "б). больше 190 см\n",
        "в). от 166 см до 190 см\n",
        "г). от 166 см до 182 см\n",
        "д). от 158 см до 190 см\n",
        "е). не выше 150 см или не ниже 190 см\n",
        "ё). не выше 150 см или не ниже 198 см\n",
        "ж). ниже 166 см."
      ],
      "metadata": {
        "id": "ie16fzk2fZfC"
      }
    },
    {
      "cell_type": "markdown",
      "source": [
        "Таблица накопленного нормального распределения взята с сайта https://ur-consul.ru/Bibli/Invyestitsionnyye-rychagi-maksimizatsii-stoimosti-kompanii-Praktika-rossiyiskikh-pryedpriyatiyi.80.html#Q-9598-Prilozhyeniye-8-Tablitsa-nakoplyennogo-normaljjnogo-raspryedyelyeniya-N-kh "
      ],
      "metadata": {
        "id": "52vYAmecDyM3"
      }
    },
    {
      "cell_type": "code",
      "source": [
        "def ZGrowth(X):\n",
        "    return Z(X, 174, 8)"
      ],
      "metadata": {
        "id": "pFUnYaXmfZyU"
      },
      "execution_count": null,
      "outputs": []
    },
    {
      "cell_type": "code",
      "source": [
        "ZGrowth(182), 1 - 0.8413"
      ],
      "metadata": {
        "colab": {
          "base_uri": "https://localhost:8080/"
        },
        "id": "YBEYvlKKGrX_",
        "outputId": "c8f6f119-a65e-403d-ca51-5f241ff05829"
      },
      "execution_count": null,
      "outputs": [
        {
          "output_type": "execute_result",
          "data": {
            "text/plain": [
              "(1.0, 0.15869999999999995)"
            ]
          },
          "metadata": {},
          "execution_count": 6
        }
      ]
    },
    {
      "cell_type": "code",
      "source": [
        "ZGrowth(190), 1 - 0.9772"
      ],
      "metadata": {
        "colab": {
          "base_uri": "https://localhost:8080/"
        },
        "id": "BtTWiatMGrn_",
        "outputId": "7f408382-9ccc-4804-cfcf-226a21421d9d"
      },
      "execution_count": null,
      "outputs": [
        {
          "output_type": "execute_result",
          "data": {
            "text/plain": [
              "(2.0, 0.022800000000000042)"
            ]
          },
          "metadata": {},
          "execution_count": 7
        }
      ]
    },
    {
      "cell_type": "code",
      "source": [
        "ZGrowth(190),ZGrowth(166), 0.9772 - 0.1587"
      ],
      "metadata": {
        "colab": {
          "base_uri": "https://localhost:8080/"
        },
        "id": "s7a4yevwHEnF",
        "outputId": "e38d0c81-8f8d-45d3-927d-c90339ae4793"
      },
      "execution_count": null,
      "outputs": [
        {
          "output_type": "execute_result",
          "data": {
            "text/plain": [
              "(2.0, -1.0, 0.8185)"
            ]
          },
          "metadata": {},
          "execution_count": 8
        }
      ]
    },
    {
      "cell_type": "code",
      "source": [
        "ZGrowth(182),ZGrowth(166), 0.8413 - 0.1587"
      ],
      "metadata": {
        "colab": {
          "base_uri": "https://localhost:8080/"
        },
        "id": "-zm7iExqHXsK",
        "outputId": "a7736db4-436d-4ad5-f30c-47495597dc36"
      },
      "execution_count": null,
      "outputs": [
        {
          "output_type": "execute_result",
          "data": {
            "text/plain": [
              "(1.0, -1.0, 0.6826000000000001)"
            ]
          },
          "metadata": {},
          "execution_count": 9
        }
      ]
    },
    {
      "cell_type": "code",
      "source": [
        "ZGrowth(190),ZGrowth(158), 0.9772 - 0.0228"
      ],
      "metadata": {
        "colab": {
          "base_uri": "https://localhost:8080/"
        },
        "id": "rBSj9K4BHhMl",
        "outputId": "ca3736b4-c22a-4c81-8834-0634508a9068"
      },
      "execution_count": null,
      "outputs": [
        {
          "output_type": "execute_result",
          "data": {
            "text/plain": [
              "(2.0, -2.0, 0.9543999999999999)"
            ]
          },
          "metadata": {},
          "execution_count": 10
        }
      ]
    },
    {
      "cell_type": "code",
      "source": [
        "ZGrowth(190),ZGrowth(150), 1-0.9772 + 0.0014"
      ],
      "metadata": {
        "colab": {
          "base_uri": "https://localhost:8080/"
        },
        "id": "pSFKAJUBHzrU",
        "outputId": "5e866e30-f503-4230-e888-9cf049d61dba"
      },
      "execution_count": null,
      "outputs": [
        {
          "output_type": "execute_result",
          "data": {
            "text/plain": [
              "(2.0, -3.0, 0.02420000000000004)"
            ]
          },
          "metadata": {},
          "execution_count": 11
        }
      ]
    },
    {
      "cell_type": "code",
      "source": [
        "ZGrowth(198),ZGrowth(150), 1-0.9986 + 0.0014"
      ],
      "metadata": {
        "colab": {
          "base_uri": "https://localhost:8080/"
        },
        "id": "GZ2CAEk-IIWH",
        "outputId": "8ddc7d1a-a43c-4c48-fbf5-9cf6c7665695"
      },
      "execution_count": null,
      "outputs": [
        {
          "output_type": "execute_result",
          "data": {
            "text/plain": [
              "(3.0, -3.0, 0.002799999999999957)"
            ]
          },
          "metadata": {},
          "execution_count": 12
        }
      ]
    },
    {
      "cell_type": "code",
      "source": [
        "ZGrowth(166), 0.1587"
      ],
      "metadata": {
        "colab": {
          "base_uri": "https://localhost:8080/"
        },
        "id": "C7ER_216IRBQ",
        "outputId": "f3e4ceef-7646-48cb-c66e-2f2bc95abe25"
      },
      "execution_count": null,
      "outputs": [
        {
          "output_type": "execute_result",
          "data": {
            "text/plain": [
              "(-1.0, 0.1587)"
            ]
          },
          "metadata": {},
          "execution_count": 13
        }
      ]
    },
    {
      "cell_type": "markdown",
      "source": [
        "### **Задание 5**"
      ],
      "metadata": {
        "id": "WLc7iF1KfaH2"
      }
    },
    {
      "cell_type": "markdown",
      "source": [
        "На сколько сигм (средних квадратичных отклонений) отклоняется рост человека, равный 190 см, от\n",
        "математического ожидания роста в популяции, в которой M(X) = 178 см и D(X) = 25 кв.см?"
      ],
      "metadata": {
        "id": "7vIqLZA1fbHT"
      }
    },
    {
      "cell_type": "code",
      "source": [
        "(190-178)/np.sqrt(25)"
      ],
      "metadata": {
        "id": "cqdvBvfkfblF",
        "colab": {
          "base_uri": "https://localhost:8080/"
        },
        "outputId": "ed910fa5-e3a4-4bfa-f371-2478ab55c763"
      },
      "execution_count": null,
      "outputs": [
        {
          "output_type": "execute_result",
          "data": {
            "text/plain": [
              "2.4"
            ]
          },
          "metadata": {},
          "execution_count": 14
        }
      ]
    }
  ]
}