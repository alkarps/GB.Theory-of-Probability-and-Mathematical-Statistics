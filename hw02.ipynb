{
  "nbformat": 4,
  "nbformat_minor": 0,
  "metadata": {
    "colab": {
      "name": "hw02.ipynb",
      "provenance": [],
      "collapsed_sections": [],
      "authorship_tag": "ABX9TyMJEsnglTCwFbPMgcrrmpfB",
      "include_colab_link": true
    },
    "kernelspec": {
      "name": "python3",
      "display_name": "Python 3"
    },
    "language_info": {
      "name": "python"
    }
  },
  "cells": [
    {
      "cell_type": "markdown",
      "metadata": {
        "id": "view-in-github",
        "colab_type": "text"
      },
      "source": [
        "<a href=\"https://colab.research.google.com/github/alkarps/GB.Theory-of-Probability-and-Mathematical-Statistics/blob/hw02/hw02.ipynb\" target=\"_parent\"><img src=\"https://colab.research.google.com/assets/colab-badge.svg\" alt=\"Open In Colab\"/></a>"
      ]
    },
    {
      "cell_type": "markdown",
      "source": [
        "# **Урок 2. Дискретные случайные величины. Закон распределения вероятностей. Биномиальный закон распределения. Распределение Пуассона**"
      ],
      "metadata": {
        "id": "xwrHoq-aetvb"
      }
    },
    {
      "cell_type": "code",
      "source": [
        "import numpy as np\n",
        "from math import factorial\n",
        "\n",
        "def combinations(n, k):\n",
        "    return int(factorial(n) / (factorial(k) * factorial(n - k)))\n",
        "\n",
        "def arrangements(n, k):\n",
        "    return int(factorial(n) / factorial(n - k))\n",
        "\n",
        "def permutations(n):\n",
        "    return int(factorial(n))\n",
        "\n",
        "def bernulli(n, k, p):\n",
        "    return combinations(n, k)*np.power(p, k)*np.power(1-p, n-k)\n",
        "\n",
        "def puason(n, k, p):\n",
        "    lambda_ = n*p\n",
        "    return np.power(lambda_, k)*np.exp(-lambda_)/np.math.factorial(k)"
      ],
      "metadata": {
        "id": "Jedji6QjfIF1"
      },
      "execution_count": 1,
      "outputs": []
    },
    {
      "cell_type": "markdown",
      "source": [
        "### **Задание 1**"
      ],
      "metadata": {
        "id": "0qj9epM8ez2l"
      }
    },
    {
      "cell_type": "markdown",
      "source": [
        "Вероятность того, что стрелок попадет в мишень, выстрелив один раз, равна 0.8. Стрелок выстрелил 100 раз. Найдите вероятность того, что стрелок попадет в цель ровно 85 раз."
      ],
      "metadata": {
        "id": "_2CEyPapexTT"
      }
    },
    {
      "cell_type": "code",
      "source": [
        "bernulli(100, 85, 0.8)"
      ],
      "metadata": {
        "colab": {
          "base_uri": "https://localhost:8080/"
        },
        "id": "bJNs-I1sP_rr",
        "outputId": "363839f9-1768-46db-d9ee-5f7cf55d3a07"
      },
      "execution_count": 2,
      "outputs": [
        {
          "output_type": "execute_result",
          "data": {
            "text/plain": [
              "0.048061793700746355"
            ]
          },
          "metadata": {},
          "execution_count": 2
        }
      ]
    },
    {
      "cell_type": "markdown",
      "source": [
        "### **Задание 2**"
      ],
      "metadata": {
        "id": "rOSTlPJve3rS"
      }
    },
    {
      "cell_type": "markdown",
      "source": [
        "Вероятность того, что лампочка перегорит в течение первого дня эксплуатации, равна 0.0004. В жилом комплексе после ремонта в один день включили 5000 новых лампочек. Какова вероятность, что ни одна из них не перегорит в первый день? Какова вероятность, что перегорят ровно две?"
      ],
      "metadata": {
        "id": "v8djK70ye6Fp"
      }
    },
    {
      "cell_type": "code",
      "source": [
        "puason(5000, 0, 0.0004)"
      ],
      "metadata": {
        "colab": {
          "base_uri": "https://localhost:8080/"
        },
        "id": "X8w4EQSSe6a5",
        "outputId": "78842253-05ca-405a-9d29-22bc09c6746c"
      },
      "execution_count": 3,
      "outputs": [
        {
          "output_type": "execute_result",
          "data": {
            "text/plain": [
              "0.1353352832366127"
            ]
          },
          "metadata": {},
          "execution_count": 3
        }
      ]
    },
    {
      "cell_type": "code",
      "source": [
        "puason(5000, 2, 0.0004)"
      ],
      "metadata": {
        "id": "-pUBUquIQ1uE",
        "outputId": "a8d75680-ac90-4530-e41a-d70cad7edd5a",
        "colab": {
          "base_uri": "https://localhost:8080/"
        }
      },
      "execution_count": 4,
      "outputs": [
        {
          "output_type": "execute_result",
          "data": {
            "text/plain": [
              "0.2706705664732254"
            ]
          },
          "metadata": {},
          "execution_count": 4
        }
      ]
    },
    {
      "cell_type": "markdown",
      "source": [
        "### **Задание 3**"
      ],
      "metadata": {
        "id": "kc6RmiCge6zb"
      }
    },
    {
      "cell_type": "markdown",
      "source": [
        "Монету подбросили 144 раза. Какова вероятность, что орел выпадет ровно 70 раз?"
      ],
      "metadata": {
        "id": "_Zw0lSQue86Q"
      }
    },
    {
      "cell_type": "code",
      "source": [
        "bernulli(144, 70, 0.5)"
      ],
      "metadata": {
        "colab": {
          "base_uri": "https://localhost:8080/"
        },
        "id": "vrhMusJve9Kb",
        "outputId": "12c0efda-8316-4c83-8749-50882ae98909"
      },
      "execution_count": 5,
      "outputs": [
        {
          "output_type": "execute_result",
          "data": {
            "text/plain": [
              "0.06281178035144776"
            ]
          },
          "metadata": {},
          "execution_count": 5
        }
      ]
    },
    {
      "cell_type": "markdown",
      "source": [
        "### **Задание 4**"
      ],
      "metadata": {
        "id": "RRUWSQAHe9Zq"
      }
    },
    {
      "cell_type": "markdown",
      "source": [
        "В первом ящике находится 10 мячей, из которых 7 - белые. Во втором ящике - 11 мячей, из которых 9 белых. Из каждого ящика вытаскивают случайным образом по два мяча. Какова вероятность того, что все мячи белые? Какова вероятность того, что ровно два мяча белые? Какова вероятность того, что хотя бы один мяч белый?"
      ],
      "metadata": {
        "id": "IOBTYep1e-jX"
      }
    },
    {
      "cell_type": "code",
      "source": [
        "def cal_p_for_bucket(all, white):\n",
        "  all_comb = combinations(all, 2)\n",
        "  p_2 = combinations(white, 2) / all_comb\n",
        "  p_1 = combinations(white, 1) * combinations(all - white, 1) / all_comb\n",
        "  p_0 = combinations(all - white, 2) / all_comb\n",
        "  return p_2, p_1, p_0"
      ],
      "metadata": {
        "id": "FHxkBwQOv3Se"
      },
      "execution_count": 6,
      "outputs": []
    },
    {
      "cell_type": "code",
      "source": [
        "p_b1_2, p_b1_1, p_b1_0 = cal_p_for_bucket(10, 7)\n",
        "p_b1_2, p_b1_1, p_b1_0"
      ],
      "metadata": {
        "colab": {
          "base_uri": "https://localhost:8080/"
        },
        "id": "2mDjNfINwfBm",
        "outputId": "4659c80a-fd02-4a6a-d9ee-a38680e1a365"
      },
      "execution_count": 7,
      "outputs": [
        {
          "output_type": "execute_result",
          "data": {
            "text/plain": [
              "(0.4666666666666667, 0.4666666666666667, 0.06666666666666667)"
            ]
          },
          "metadata": {},
          "execution_count": 7
        }
      ]
    },
    {
      "cell_type": "code",
      "source": [
        "p_b2_2, p_b2_1, p_b2_0 = cal_p_for_bucket(11, 9)\n",
        "p_b2_2, p_b2_1, p_b2_0"
      ],
      "metadata": {
        "colab": {
          "base_uri": "https://localhost:8080/"
        },
        "id": "oCP-7GShv0mS",
        "outputId": "9fc60f15-60fc-421a-e052-359b060b7392"
      },
      "execution_count": 8,
      "outputs": [
        {
          "output_type": "execute_result",
          "data": {
            "text/plain": [
              "(0.6545454545454545, 0.32727272727272727, 0.01818181818181818)"
            ]
          },
          "metadata": {},
          "execution_count": 8
        }
      ]
    },
    {
      "cell_type": "code",
      "source": [
        "p_all_white = p_b1_2 * p_b2_2\n",
        "p_all_white"
      ],
      "metadata": {
        "colab": {
          "base_uri": "https://localhost:8080/"
        },
        "id": "kEgRfhfgt1aM",
        "outputId": "8c914ee1-a5eb-4e33-fcf4-dd3be795232e"
      },
      "execution_count": 9,
      "outputs": [
        {
          "output_type": "execute_result",
          "data": {
            "text/plain": [
              "0.3054545454545455"
            ]
          },
          "metadata": {},
          "execution_count": 9
        }
      ]
    },
    {
      "cell_type": "code",
      "source": [
        "p_only_2 = p_b1_2 * p_b2_0 + p_b1_1 * p_b2_1 + p_b1_0 * p_b2_2\n",
        "p_only_2"
      ],
      "metadata": {
        "colab": {
          "base_uri": "https://localhost:8080/"
        },
        "id": "8RgZJiYAxW4U",
        "outputId": "0659e07a-db88-469f-875c-cd87c2765796"
      },
      "execution_count": 10,
      "outputs": [
        {
          "output_type": "execute_result",
          "data": {
            "text/plain": [
              "0.20484848484848486"
            ]
          },
          "metadata": {},
          "execution_count": 10
        }
      ]
    },
    {
      "cell_type": "code",
      "source": [
        "p_none_while = p_b1_0 * p_b2_0\n",
        "1-p_none_while"
      ],
      "metadata": {
        "colab": {
          "base_uri": "https://localhost:8080/"
        },
        "id": "v17ldGKAtxtK",
        "outputId": "ece2b072-de75-467a-9f98-082f117d87b3"
      },
      "execution_count": 11,
      "outputs": [
        {
          "output_type": "execute_result",
          "data": {
            "text/plain": [
              "0.9987878787878788"
            ]
          },
          "metadata": {},
          "execution_count": 11
        }
      ]
    }
  ]
}