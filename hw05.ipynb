{
  "nbformat": 4,
  "nbformat_minor": 0,
  "metadata": {
    "colab": {
      "name": "hw05.ipynb",
      "provenance": [],
      "collapsed_sections": [],
      "authorship_tag": "ABX9TyPmhAxsu4OVjc5vbl1els7N",
      "include_colab_link": true
    },
    "kernelspec": {
      "name": "python3",
      "display_name": "Python 3"
    },
    "language_info": {
      "name": "python"
    }
  },
  "cells": [
    {
      "cell_type": "markdown",
      "metadata": {
        "id": "view-in-github",
        "colab_type": "text"
      },
      "source": [
        "<a href=\"https://colab.research.google.com/github/alkarps/GB.Theory-of-Probability-and-Mathematical-Statistics/blob/hw05/hw05.ipynb\" target=\"_parent\"><img src=\"https://colab.research.google.com/assets/colab-badge.svg\" alt=\"Open In Colab\"/></a>"
      ]
    },
    {
      "cell_type": "markdown",
      "source": [
        "# **Урок 5. Проверка статистических гипотез. P-значения. Доверительные интервалы. A/B-тестирование**"
      ],
      "metadata": {
        "id": "IAOPLIJxScNo"
      }
    },
    {
      "cell_type": "code",
      "execution_count": 1,
      "metadata": {
        "id": "VDqSW1JGSSmw"
      },
      "outputs": [],
      "source": [
        "from traitlets.config.application import ArgumentError\n",
        "import numpy as np\n",
        "from math import factorial\n",
        "\n",
        "def combinations(n, k):\n",
        "    return int(factorial(n) / (factorial(k) * factorial(n - k)))\n",
        "\n",
        "def arrangements(n, k):\n",
        "    return int(factorial(n) / factorial(n - k))\n",
        "\n",
        "def permutations(n):\n",
        "    return int(factorial(n))\n",
        "\n",
        "def bernulli(n, k, p):\n",
        "    return combinations(n, k)*np.power(p, k)*np.power(1-p, n-k)\n",
        "\n",
        "def puason(n, k, p):\n",
        "    lambda_ = n*p\n",
        "    return np.power(lambda_, k)*np.exp(-lambda_)/np.math.factorial(k)\n",
        "\n",
        "def gauss(X, Mx, Dx = None, StdX = None):\n",
        "    if X is None:\n",
        "        raise ValueError(\"Need X parameter.\")\n",
        "    if Mx is None:\n",
        "        raise ValueError(\"Need Mx parameter.\")\n",
        "    if Dx is None:\n",
        "        if StdX is None:\n",
        "            raise ValueError(\"Need one of Dx or StdX parameters.\")\n",
        "        else:\n",
        "            Dx = np.square(StdX)\n",
        "    else:\n",
        "        if StdX is None:\n",
        "            StdX = np.sqrt(Dx)\n",
        "        elif Dx != np.square(StdX):\n",
        "            raise ValueError(\"Dx != StdX * StdX\")\n",
        "    return (1/(StdX*np.sqrt(2*np.pi)))*np.exp(-np.square(X-Mx)/(2*Dx))\n",
        "\n",
        "def Z(X, Mx, StdX):\n",
        "    return (X-Mx)/StdX"
      ]
    },
    {
      "cell_type": "markdown",
      "source": [
        "### **Задание 1**"
      ],
      "metadata": {
        "id": "KoyzOGwnuYZX"
      }
    },
    {
      "cell_type": "markdown",
      "source": [
        "Известно, что генеральная совокупность распределена нормально\n",
        "со средним квадратическим отклонением, равным 16.\n",
        "Найти доверительный интервал для оценки математического ожидания a с надежностью 0.95,\n",
        "если выборочная средняя M = 80, а объем выборки n = 256.\n",
        "\n"
      ],
      "metadata": {
        "id": "ToWe7innua2-"
      }
    },
    {
      "cell_type": "code",
      "source": [
        "Stdx = 16\n",
        "Mx = 80\n",
        "n = 256\n",
        "alpha_halh, Zalpha_half = (1-0.95)/2, 1.96\n",
        "StdMx = Stdx/np.sqrt(n)\n",
        "Mx-Zalpha_half*StdMx, Mx+Zalpha_half*StdMx"
      ],
      "metadata": {
        "id": "iBuupn1Xubef",
        "colab": {
          "base_uri": "https://localhost:8080/"
        },
        "outputId": "9bd7cbf6-3e86-4286-c5f9-d535318ca33d"
      },
      "execution_count": 2,
      "outputs": [
        {
          "output_type": "execute_result",
          "data": {
            "text/plain": [
              "(78.04, 81.96)"
            ]
          },
          "metadata": {},
          "execution_count": 2
        }
      ]
    },
    {
      "cell_type": "markdown",
      "source": [
        "### **Задание 2**"
      ],
      "metadata": {
        "id": "vHaT5TAiub4q"
      }
    },
    {
      "cell_type": "markdown",
      "source": [
        "В результате 10 независимых измерений некоторой величины X, выполненных с одинаковой точностью,\n",
        "получены опытные данные:\n",
        "6.9, 6.1, 6.2, 6.8, 7.5, 6.3, 6.4, 6.9, 6.7, 6.1\n",
        "Предполагая, что результаты измерений подчинены нормальному закону распределения вероятностей,\n",
        "оценить истинное значение величины X при помощи доверительного интервала, покрывающего это\n",
        "значение с доверительной вероятностью 0,95."
      ],
      "metadata": {
        "id": "-Zcg6q__uda4"
      }
    },
    {
      "cell_type": "code",
      "source": [
        "n = 10\n",
        "alpha_halh, Talpha_half = (1-0.95)/2, 2.262\n",
        "data = np.array([6.9, 6.1, 6.2, 6.8, 7.5, 6.3, 6.4, 6.9, 6.7, 6.1])\n",
        "Mx = data.mean()\n",
        "StdNx = data.std(ddof=1)/np.sqrt(n)\n",
        "Mx-Talpha_half*StdNx, Mx+Talpha_half*StdNx"
      ],
      "metadata": {
        "id": "xasE_Fs4udzO",
        "colab": {
          "base_uri": "https://localhost:8080/"
        },
        "outputId": "f13524c7-8810-423c-da02-cbf005d4a9e5"
      },
      "execution_count": 3,
      "outputs": [
        {
          "output_type": "execute_result",
          "data": {
            "text/plain": [
              "(6.267538255912426, 6.912461744087575)"
            ]
          },
          "metadata": {},
          "execution_count": 3
        }
      ]
    },
    {
      "cell_type": "markdown",
      "source": [
        "### **Задание 3**"
      ],
      "metadata": {
        "id": "eho5CQewugbk"
      }
    },
    {
      "cell_type": "markdown",
      "source": [
        "Проведите тест гипотезы. Утверждается, что шарики для подшипников, изготовленные автоматическим станком, имеют средний диаметр 17 мм.\n",
        "Используя односторонний критерий с α=0,05, проверить эту гипотезу, если в выборке из n=100 шариков средний диаметр оказался равным 17.5 мм, а дисперсия известна и равна 4 кв. мм."
      ],
      "metadata": {
        "id": "6hEsK4fruhTI"
      }
    },
    {
      "cell_type": "code",
      "source": [
        "Mx0 = 17\n",
        "alpha, Zt = 0.05, 1.65\n",
        "n = 100\n",
        "Mx1 = 17.5\n",
        "Dx = 4\n",
        "Stdx = np.sqrt(Dx/n)\n",
        "Zr = Z(Mx1, Mx0, Stdx)\n",
        "Zr, Zr>Zt"
      ],
      "metadata": {
        "id": "PYs6v2dRuhhW",
        "colab": {
          "base_uri": "https://localhost:8080/"
        },
        "outputId": "8a30ef26-6804-4afc-ee59-7220baed0230"
      },
      "execution_count": 4,
      "outputs": [
        {
          "output_type": "execute_result",
          "data": {
            "text/plain": [
              "(2.5, True)"
            ]
          },
          "metadata": {},
          "execution_count": 4
        }
      ]
    },
    {
      "cell_type": "markdown",
      "source": [
        "Следовательно, гипотеза H1 оказалась верна"
      ],
      "metadata": {
        "id": "t1NUgcRxbYux"
      }
    },
    {
      "cell_type": "markdown",
      "source": [
        "### **Задание 4**"
      ],
      "metadata": {
        "id": "QovxYMSuuhwe"
      }
    },
    {
      "cell_type": "markdown",
      "source": [
        "Проведите тест гипотезы. Продавец утверждает, что средний вес пачки печенья составляет 200 г. Из партии извлечена выборка из 10 пачек. Вес каждой пачки составляет: 202, 203, 199, 197, 195, 201, 200, 204, 194, 190. Известно, что их веса распределены нормально. Верно ли утверждение продавца, если учитывать, что доверительная вероятность равна 99%? (Провести двусторонний тест.)"
      ],
      "metadata": {
        "id": "BmSUEeS9ui1-"
      }
    },
    {
      "cell_type": "code",
      "source": [
        "n=10\n",
        "Mx0 = 200\n",
        "data = np.array([202, 203, 199, 197, 195, 201, 200, 204, 194, 190])\n",
        "Mx1 = data.mean()\n",
        "StdNx = data.std(ddof=1)/np.sqrt(n)\n",
        "alpha_half, Talpha_half = (100-99)/100/2, 3.250\n",
        "Tr = Z(Mx1, Mx0, StdNx)\n",
        "Tr, Tr>Talpha_half or Tr<-Talpha_half"
      ],
      "metadata": {
        "id": "tijSYKn2ujGS",
        "colab": {
          "base_uri": "https://localhost:8080/"
        },
        "outputId": "c5393179-edc6-4bd2-a61f-c94cb5bbc643"
      },
      "execution_count": 5,
      "outputs": [
        {
          "output_type": "execute_result",
          "data": {
            "text/plain": [
              "(-1.0651074037450896, False)"
            ]
          },
          "metadata": {},
          "execution_count": 5
        }
      ]
    },
    {
      "cell_type": "markdown",
      "source": [
        "Следовательно, гипотеза H0 оказывается верной"
      ],
      "metadata": {
        "id": "YRYgYr_XsIuI"
      }
    }
  ]
}