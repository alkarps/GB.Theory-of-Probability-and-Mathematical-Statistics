{
  "nbformat": 4,
  "nbformat_minor": 0,
  "metadata": {
    "colab": {
      "name": "hw03.ipynb",
      "provenance": [],
      "collapsed_sections": [],
      "authorship_tag": "ABX9TyPZWIK4ENJqXO7sRYYpNOWS",
      "include_colab_link": true
    },
    "kernelspec": {
      "name": "python3",
      "display_name": "Python 3"
    },
    "language_info": {
      "name": "python"
    }
  },
  "cells": [
    {
      "cell_type": "markdown",
      "metadata": {
        "id": "view-in-github",
        "colab_type": "text"
      },
      "source": [
        "<a href=\"https://colab.research.google.com/github/alkarps/GB.Theory-of-Probability-and-Mathematical-Statistics/blob/hw03/hw03.ipynb\" target=\"_parent\"><img src=\"https://colab.research.google.com/assets/colab-badge.svg\" alt=\"Open In Colab\"/></a>"
      ]
    },
    {
      "cell_type": "markdown",
      "source": [
        "# **Урок 3. Описательная статистика. Качественные и количественные характеристики популяции. Графическое представление данных**"
      ],
      "metadata": {
        "id": "pT-LSiZ4IWot"
      }
    },
    {
      "cell_type": "code",
      "execution_count": 1,
      "metadata": {
        "id": "jj7TUJqbIGVf"
      },
      "outputs": [],
      "source": [
        "import numpy as np\n",
        "from math import factorial\n",
        "\n",
        "def combinations(n, k):\n",
        "    return int(factorial(n) / (factorial(k) * factorial(n - k)))\n",
        "\n",
        "def arrangements(n, k):\n",
        "    return int(factorial(n) / factorial(n - k))\n",
        "\n",
        "def permutations(n):\n",
        "    return int(factorial(n))\n",
        "\n",
        "def bernulli(n, k, p):\n",
        "    return combinations(n, k)*np.power(p, k)*np.power(1-p, n-k)\n",
        "\n",
        "def puason(n, k, p):\n",
        "    lambda_ = n*p\n",
        "    return np.power(lambda_, k)*np.exp(-lambda_)/np.math.factorial(k)"
      ]
    },
    {
      "cell_type": "markdown",
      "source": [
        "### **Задание 1**"
      ],
      "metadata": {
        "id": "cwQs_g2YIfJx"
      }
    },
    {
      "cell_type": "markdown",
      "source": [
        "Даны значения зарплат из выборки выпускников: 100, 80, 75, 77, 89, 33, 45, 25, 65, 17, 30, 24, 57, 55, 70, 75, 65, 84, 90, 150. Посчитать (желательно без использования статистических методов наподобие std, var, mean) среднее арифметическое, среднее квадратичное отклонение, смещенную и несмещенную оценки дисперсий для данной выборки."
      ],
      "metadata": {
        "id": "FdF2m8uqIkmn"
      }
    },
    {
      "cell_type": "code",
      "source": [
        "salaries = np.array([100, 80, 75, 77, 89, 33, 45, 25, 65, 17, 30, 24, 57, 55, 70, 75, 65, 84, 90, 150])\n",
        "salaries, salaries.mean(), salaries.std(), salaries.var(), salaries.var(ddof=1)"
      ],
      "metadata": {
        "colab": {
          "base_uri": "https://localhost:8080/"
        },
        "id": "rnTkw_r_Ik86",
        "outputId": "ff763a51-56ce-4bc2-a900-7353921f259c"
      },
      "execution_count": 2,
      "outputs": [
        {
          "output_type": "execute_result",
          "data": {
            "text/plain": [
              "(array([100,  80,  75,  77,  89,  33,  45,  25,  65,  17,  30,  24,  57,\n",
              "         55,  70,  75,  65,  84,  90, 150]),\n",
              " 65.3,\n",
              " 30.823854398825596,\n",
              " 950.11,\n",
              " 1000.1157894736842)"
            ]
          },
          "metadata": {},
          "execution_count": 2
        }
      ]
    },
    {
      "cell_type": "code",
      "source": [
        "mean = np.sum(salaries)/salaries.size\n",
        "mean"
      ],
      "metadata": {
        "colab": {
          "base_uri": "https://localhost:8080/"
        },
        "id": "Klcx0ECRRkL9",
        "outputId": "6fd2ea76-d2db-40c3-8bca-3fbe662affa7"
      },
      "execution_count": 3,
      "outputs": [
        {
          "output_type": "execute_result",
          "data": {
            "text/plain": [
              "65.3"
            ]
          },
          "metadata": {},
          "execution_count": 3
        }
      ]
    },
    {
      "cell_type": "code",
      "source": [
        "std = np.sqrt(np.sum(np.square(salaries-mean))/(salaries.size))\n",
        "std"
      ],
      "metadata": {
        "colab": {
          "base_uri": "https://localhost:8080/"
        },
        "id": "Ur8-eygvSLbV",
        "outputId": "57017774-ba18-485c-91b6-2ea9675b7b05"
      },
      "execution_count": 4,
      "outputs": [
        {
          "output_type": "execute_result",
          "data": {
            "text/plain": [
              "30.823854398825596"
            ]
          },
          "metadata": {},
          "execution_count": 4
        }
      ]
    },
    {
      "cell_type": "code",
      "source": [
        "var0 = np.sum(np.square(salaries - mean))/salaries.size\n",
        "var0"
      ],
      "metadata": {
        "colab": {
          "base_uri": "https://localhost:8080/"
        },
        "id": "S9aINv0aTgQt",
        "outputId": "a1e7c63f-3d4e-422f-a3d6-bb12c694bf52"
      },
      "execution_count": 5,
      "outputs": [
        {
          "output_type": "execute_result",
          "data": {
            "text/plain": [
              "950.11"
            ]
          },
          "metadata": {},
          "execution_count": 5
        }
      ]
    },
    {
      "cell_type": "code",
      "source": [
        "var1 = np.sum(np.square(salaries - mean))/(salaries.size-1)\n",
        "var1"
      ],
      "metadata": {
        "colab": {
          "base_uri": "https://localhost:8080/"
        },
        "id": "rNSheRw5nRal",
        "outputId": "4075bc1e-1e1b-4d75-cf9a-e777237badea"
      },
      "execution_count": 6,
      "outputs": [
        {
          "output_type": "execute_result",
          "data": {
            "text/plain": [
              "1000.1157894736842"
            ]
          },
          "metadata": {},
          "execution_count": 6
        }
      ]
    },
    {
      "cell_type": "markdown",
      "source": [
        "### **Задание 2**"
      ],
      "metadata": {
        "id": "YK4oeDFRIlc0"
      }
    },
    {
      "cell_type": "markdown",
      "source": [
        "В первом ящике находится 8 мячей, из которых 5 - белые. Во втором ящике - 12 мячей, из которых 5 белых. Из первого ящика вытаскивают случайным образом два мяча, из второго - 4. Какова вероятность того, что 3 мяча белые?"
      ],
      "metadata": {
        "id": "vp0oomYQImha"
      }
    },
    {
      "cell_type": "code",
      "source": [
        "def p_bucket(n, w, r):\n",
        "  p = []\n",
        "  all_comb = combinations(n,r)\n",
        "  for i in range(r+1):\n",
        "    comb_w = combinations(w,i)\n",
        "    comb_b = combinations(n-w, r-i)\n",
        "    p.append(comb_w*comb_b/all_comb)\n",
        "  return tuple(combinations(w,i)* combinations(n-w, r-i) / all_comb for i in range(r+1))\n",
        "\n",
        "p_b1 = p_bucket(8, 5, 2)\n",
        "p_b2 = p_bucket(12, 5, 4)\n",
        "p_b1[0]*p_b2[3] + p_b1[1]*p_b2[2] + p_b1[2]*p_b2[1]"
      ],
      "metadata": {
        "colab": {
          "base_uri": "https://localhost:8080/"
        },
        "id": "G0pVSXX3Imtv",
        "outputId": "1ebb8374-1b66-47af-91bf-6c9344489bf4"
      },
      "execution_count": 7,
      "outputs": [
        {
          "output_type": "execute_result",
          "data": {
            "text/plain": [
              "0.3686868686868687"
            ]
          },
          "metadata": {},
          "execution_count": 7
        }
      ]
    },
    {
      "cell_type": "markdown",
      "source": [
        "### **Задание 3**"
      ],
      "metadata": {
        "id": "MWpC-f7SInE-"
      }
    },
    {
      "cell_type": "markdown",
      "source": [
        "На соревновании по биатлону один из трех спортсменов стреляет и попадает в мишень. Вероятность попадания для первого спортсмена равна 0.9, для второго — 0.8, для третьего — 0.6. Найти вероятность того, что выстрел произведен: a). первым спортсменом б). вторым спортсменом в). третьим спортсменом."
      ],
      "metadata": {
        "id": "roIyq9rHIn93"
      }
    },
    {
      "cell_type": "code",
      "source": [
        "p_s = 1/3\n",
        "p_1_s = 0.9\n",
        "p_2_s = 0.8\n",
        "p_3_s = 0.6\n",
        "p_full = p_s*(p_1_s+p_2_s+p_3_s)\n",
        "pA = p_s*p_1_s/p_full\n",
        "pB = p_s*p_2_s/p_full\n",
        "pC = p_s*p_3_s/p_full\n",
        "pA, pB, pC"
      ],
      "metadata": {
        "id": "dEVZ-4YdIoOf",
        "colab": {
          "base_uri": "https://localhost:8080/"
        },
        "outputId": "bda154ab-d8f8-46c6-8bb2-a01fb8ecef2f"
      },
      "execution_count": 8,
      "outputs": [
        {
          "output_type": "execute_result",
          "data": {
            "text/plain": [
              "(0.3913043478260869, 0.34782608695652173, 0.26086956521739124)"
            ]
          },
          "metadata": {},
          "execution_count": 8
        }
      ]
    },
    {
      "cell_type": "markdown",
      "source": [
        "### **Задание 4**"
      ],
      "metadata": {
        "id": "CCf3LYUqIox1"
      }
    },
    {
      "cell_type": "markdown",
      "source": [
        "В университет на факультеты A и B поступило равное количество студентов, а на факультет C студентов поступило столько же, сколько на A и B вместе. Вероятность того, что студент факультета A сдаст первую сессию, равна 0.8. Для студента факультета B эта вероятность равна 0.7, а для студента факультета C - 0.9. Студент сдал первую сессию. Какова вероятность, что он учится: a). на факультете A б). на факультете B в). на факультете C?"
      ],
      "metadata": {
        "id": "mqnhumKeIp61"
      }
    },
    {
      "cell_type": "code",
      "source": [
        "p_a = 1/4\n",
        "p_b = 1/4\n",
        "p_c = 2/4\n",
        "p_a_s = 0.8\n",
        "p_b_s = 0.7\n",
        "p_c_s = 0.9\n",
        "p_full = p_a*p_a_s + p_b*p_b_s + p_c*p_c_s\n",
        "pA = p_a*p_a_s/p_full\n",
        "pB = p_b*p_b_s/p_full\n",
        "pC = p_c*p_c_s/p_full\n",
        "pA, pB, pC"
      ],
      "metadata": {
        "colab": {
          "base_uri": "https://localhost:8080/"
        },
        "id": "GpZYLxd_IqQM",
        "outputId": "5aceb058-9241-4956-cd8b-216fc235619f"
      },
      "execution_count": 9,
      "outputs": [
        {
          "output_type": "execute_result",
          "data": {
            "text/plain": [
              "(0.24242424242424246, 0.21212121212121213, 0.5454545454545455)"
            ]
          },
          "metadata": {},
          "execution_count": 9
        }
      ]
    },
    {
      "cell_type": "markdown",
      "source": [
        "### **Задание 5**"
      ],
      "metadata": {
        "id": "7wECi2jGIqqk"
      }
    },
    {
      "cell_type": "markdown",
      "source": [
        "Устройство состоит из трех деталей. Для первой детали вероятность выйти из строя в первый месяц равна 0.1, для второй - 0.2, для третьей - 0.25. Какова вероятность того, что в первый месяц выйдут из строя: а). все детали б). только две детали в). хотя бы одна деталь г). от одной до двух деталей?"
      ],
      "metadata": {
        "id": "ibSr5-S3IsLb"
      }
    },
    {
      "cell_type": "code",
      "source": [
        "p1 = 0.1\n",
        "p1n = 1-p1\n",
        "p2 = 0.2\n",
        "p2n = 1-p2\n",
        "p3 = 0.25\n",
        "p3n = 1-p3\n",
        "p1, p1n, p2, p2n, p3, p3n"
      ],
      "metadata": {
        "colab": {
          "base_uri": "https://localhost:8080/"
        },
        "id": "LR8zrNMcIseX",
        "outputId": "4b94cd64-1f46-47b6-99d4-d37e970f22b2"
      },
      "execution_count": 10,
      "outputs": [
        {
          "output_type": "execute_result",
          "data": {
            "text/plain": [
              "(0.1, 0.9, 0.2, 0.8, 0.25, 0.75)"
            ]
          },
          "metadata": {},
          "execution_count": 10
        }
      ]
    },
    {
      "cell_type": "code",
      "source": [
        "p1 * p2 * p3"
      ],
      "metadata": {
        "colab": {
          "base_uri": "https://localhost:8080/"
        },
        "id": "C2jG-qxoK0W8",
        "outputId": "74fa2a76-9870-4579-e731-4f5a6ed3c8ff"
      },
      "execution_count": 11,
      "outputs": [
        {
          "output_type": "execute_result",
          "data": {
            "text/plain": [
              "0.005000000000000001"
            ]
          },
          "metadata": {},
          "execution_count": 11
        }
      ]
    },
    {
      "cell_type": "code",
      "source": [
        "p1*p2*p3n + p1n*p2*p3 + p1*p2n*p3"
      ],
      "metadata": {
        "colab": {
          "base_uri": "https://localhost:8080/"
        },
        "id": "h-2y-dmVMV_Q",
        "outputId": "1e14afd5-0d90-410d-fc78-d10a61ca883d"
      },
      "execution_count": 12,
      "outputs": [
        {
          "output_type": "execute_result",
          "data": {
            "text/plain": [
              "0.08000000000000002"
            ]
          },
          "metadata": {},
          "execution_count": 12
        }
      ]
    },
    {
      "cell_type": "code",
      "source": [
        "1-p1n*p2n*p3n"
      ],
      "metadata": {
        "colab": {
          "base_uri": "https://localhost:8080/"
        },
        "id": "He0F_m5aLlZI",
        "outputId": "132f1b61-28df-4a62-881a-b8917cd61894"
      },
      "execution_count": 13,
      "outputs": [
        {
          "output_type": "execute_result",
          "data": {
            "text/plain": [
              "0.45999999999999996"
            ]
          },
          "metadata": {},
          "execution_count": 13
        }
      ]
    },
    {
      "cell_type": "code",
      "source": [
        "1-p1n*p2n*p3n-p1*p2*p3"
      ],
      "metadata": {
        "colab": {
          "base_uri": "https://localhost:8080/"
        },
        "id": "A2MBBM1rL1Mw",
        "outputId": "2ee0911b-233b-4d4f-ad06-2ba45644924d"
      },
      "execution_count": 14,
      "outputs": [
        {
          "output_type": "execute_result",
          "data": {
            "text/plain": [
              "0.45499999999999996"
            ]
          },
          "metadata": {},
          "execution_count": 14
        }
      ]
    }
  ]
}